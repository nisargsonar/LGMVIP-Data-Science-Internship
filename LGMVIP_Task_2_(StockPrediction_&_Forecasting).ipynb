{
  "nbformat": 4,
  "nbformat_minor": 0,
  "metadata": {
    "colab": {
      "name": "LGMVIP Task-2 (StockPrediction & Forecasting).ipynb",
      "provenance": []
    },
    "kernelspec": {
      "name": "python3",
      "display_name": "Python 3"
    },
    "language_info": {
      "name": "python"
    }
  },
  "cells": [
    {
      "cell_type": "markdown",
      "source": [
        "## **LETS GROW MORE Data Science Internship Beginner Level-2 on Stock Market Prediction and Forecasting using Stacked LSTM** \n",
        "---\n"
      ],
      "metadata": {
        "id": "U25edwtIo2MK"
      }
    },
    {
      "cell_type": "markdown",
      "source": [
        "### **LGMVIP (August - 2022)**\n",
        "\n",
        "### **TASK 2 - Stock Market Prediction and Forecasting using Stacked LSTM**\n",
        "\n",
        "### AUTHOR- **NISARG SONAR**\n",
        "\n",
        "### DATA SET LINK - https://raw.githubusercontent.com/Mwitiderrick/stockprice/master/NSE-TATAGLOBAL.csv\n",
        "---"
      ],
      "metadata": {
        "id": "aL4WfdHao106"
      }
    },
    {
      "cell_type": "code",
      "execution_count": null,
      "metadata": {
        "id": "9oqfWAJ3XSbM"
      },
      "outputs": [],
      "source": [
        "import numpy as np\n",
        "import pandas as pd\n",
        "import tensorflow as tf\n",
        "import matplotlib.pyplot as plt\n",
        "import sklearn\n",
        "from sklearn.preprocessing import MinMaxScaler\n",
        "import matplotlib.pyplot as plt\n",
        "#Libraries Import"
      ]
    },
    {
      "cell_type": "code",
      "source": [
        "df = pd.read_csv(\"NSE-TATAGLOBAL.csv\")"
      ],
      "metadata": {
        "id": "7BgLrZR8aN7n"
      },
      "execution_count": null,
      "outputs": []
    },
    {
      "cell_type": "code",
      "source": [
        "training_set = df.iloc[:, 1: 2].values"
      ],
      "metadata": {
        "id": "gFpyjKhIaN5N"
      },
      "execution_count": null,
      "outputs": []
    },
    {
      "cell_type": "code",
      "source": [
        "training_set"
      ],
      "metadata": {
        "colab": {
          "base_uri": "https://localhost:8080/"
        },
        "id": "2KYpM_g8aN2y",
        "outputId": "7bce5842-6b31-41ca-a237-3be987efdab7"
      },
      "execution_count": null,
      "outputs": [
        {
          "output_type": "execute_result",
          "data": {
            "text/plain": [
              "array([[234.05],\n",
              "       [234.55],\n",
              "       [240.  ],\n",
              "       ...,\n",
              "       [121.8 ],\n",
              "       [120.3 ],\n",
              "       [122.1 ]])"
            ]
          },
          "metadata": {},
          "execution_count": 5
        }
      ]
    },
    {
      "cell_type": "code",
      "source": [
        "df.head(10)"
      ],
      "metadata": {
        "colab": {
          "base_uri": "https://localhost:8080/",
          "height": 363
        },
        "id": "kPbHUv3RaN0S",
        "outputId": "00ec122c-003d-4332-b1c0-0380bcdbcf79"
      },
      "execution_count": null,
      "outputs": [
        {
          "output_type": "execute_result",
          "data": {
            "text/plain": [
              "         Date    Open    High     Low    Last   Close  Total Trade Quantity  \\\n",
              "0  2018-09-28  234.05  235.95  230.20  233.50  233.75               3069914   \n",
              "1  2018-09-27  234.55  236.80  231.10  233.80  233.25               5082859   \n",
              "2  2018-09-26  240.00  240.00  232.50  235.00  234.25               2240909   \n",
              "3  2018-09-25  233.30  236.75  232.00  236.25  236.10               2349368   \n",
              "4  2018-09-24  233.55  239.20  230.75  234.00  233.30               3423509   \n",
              "5  2018-09-21  235.00  237.00  227.95  233.75  234.60               5395319   \n",
              "6  2018-09-19  235.95  237.20  233.45  234.60  234.90               1362058   \n",
              "7  2018-09-18  237.90  239.25  233.50  235.50  235.05               2614794   \n",
              "8  2018-09-17  233.15  238.00  230.25  236.40  236.60               3170894   \n",
              "9  2018-09-14  223.45  236.70  223.30  234.00  233.95               6377909   \n",
              "\n",
              "   Turnover (Lacs)  \n",
              "0          7162.35  \n",
              "1         11859.95  \n",
              "2          5248.60  \n",
              "3          5503.90  \n",
              "4          7999.55  \n",
              "5         12589.59  \n",
              "6          3202.78  \n",
              "7          6163.70  \n",
              "8          7445.41  \n",
              "9         14784.50  "
            ],
            "text/html": [
              "\n",
              "  <div id=\"df-9a0cb12d-4acb-4be7-abc7-dd8bd10fcdd4\">\n",
              "    <div class=\"colab-df-container\">\n",
              "      <div>\n",
              "<style scoped>\n",
              "    .dataframe tbody tr th:only-of-type {\n",
              "        vertical-align: middle;\n",
              "    }\n",
              "\n",
              "    .dataframe tbody tr th {\n",
              "        vertical-align: top;\n",
              "    }\n",
              "\n",
              "    .dataframe thead th {\n",
              "        text-align: right;\n",
              "    }\n",
              "</style>\n",
              "<table border=\"1\" class=\"dataframe\">\n",
              "  <thead>\n",
              "    <tr style=\"text-align: right;\">\n",
              "      <th></th>\n",
              "      <th>Date</th>\n",
              "      <th>Open</th>\n",
              "      <th>High</th>\n",
              "      <th>Low</th>\n",
              "      <th>Last</th>\n",
              "      <th>Close</th>\n",
              "      <th>Total Trade Quantity</th>\n",
              "      <th>Turnover (Lacs)</th>\n",
              "    </tr>\n",
              "  </thead>\n",
              "  <tbody>\n",
              "    <tr>\n",
              "      <th>0</th>\n",
              "      <td>2018-09-28</td>\n",
              "      <td>234.05</td>\n",
              "      <td>235.95</td>\n",
              "      <td>230.20</td>\n",
              "      <td>233.50</td>\n",
              "      <td>233.75</td>\n",
              "      <td>3069914</td>\n",
              "      <td>7162.35</td>\n",
              "    </tr>\n",
              "    <tr>\n",
              "      <th>1</th>\n",
              "      <td>2018-09-27</td>\n",
              "      <td>234.55</td>\n",
              "      <td>236.80</td>\n",
              "      <td>231.10</td>\n",
              "      <td>233.80</td>\n",
              "      <td>233.25</td>\n",
              "      <td>5082859</td>\n",
              "      <td>11859.95</td>\n",
              "    </tr>\n",
              "    <tr>\n",
              "      <th>2</th>\n",
              "      <td>2018-09-26</td>\n",
              "      <td>240.00</td>\n",
              "      <td>240.00</td>\n",
              "      <td>232.50</td>\n",
              "      <td>235.00</td>\n",
              "      <td>234.25</td>\n",
              "      <td>2240909</td>\n",
              "      <td>5248.60</td>\n",
              "    </tr>\n",
              "    <tr>\n",
              "      <th>3</th>\n",
              "      <td>2018-09-25</td>\n",
              "      <td>233.30</td>\n",
              "      <td>236.75</td>\n",
              "      <td>232.00</td>\n",
              "      <td>236.25</td>\n",
              "      <td>236.10</td>\n",
              "      <td>2349368</td>\n",
              "      <td>5503.90</td>\n",
              "    </tr>\n",
              "    <tr>\n",
              "      <th>4</th>\n",
              "      <td>2018-09-24</td>\n",
              "      <td>233.55</td>\n",
              "      <td>239.20</td>\n",
              "      <td>230.75</td>\n",
              "      <td>234.00</td>\n",
              "      <td>233.30</td>\n",
              "      <td>3423509</td>\n",
              "      <td>7999.55</td>\n",
              "    </tr>\n",
              "    <tr>\n",
              "      <th>5</th>\n",
              "      <td>2018-09-21</td>\n",
              "      <td>235.00</td>\n",
              "      <td>237.00</td>\n",
              "      <td>227.95</td>\n",
              "      <td>233.75</td>\n",
              "      <td>234.60</td>\n",
              "      <td>5395319</td>\n",
              "      <td>12589.59</td>\n",
              "    </tr>\n",
              "    <tr>\n",
              "      <th>6</th>\n",
              "      <td>2018-09-19</td>\n",
              "      <td>235.95</td>\n",
              "      <td>237.20</td>\n",
              "      <td>233.45</td>\n",
              "      <td>234.60</td>\n",
              "      <td>234.90</td>\n",
              "      <td>1362058</td>\n",
              "      <td>3202.78</td>\n",
              "    </tr>\n",
              "    <tr>\n",
              "      <th>7</th>\n",
              "      <td>2018-09-18</td>\n",
              "      <td>237.90</td>\n",
              "      <td>239.25</td>\n",
              "      <td>233.50</td>\n",
              "      <td>235.50</td>\n",
              "      <td>235.05</td>\n",
              "      <td>2614794</td>\n",
              "      <td>6163.70</td>\n",
              "    </tr>\n",
              "    <tr>\n",
              "      <th>8</th>\n",
              "      <td>2018-09-17</td>\n",
              "      <td>233.15</td>\n",
              "      <td>238.00</td>\n",
              "      <td>230.25</td>\n",
              "      <td>236.40</td>\n",
              "      <td>236.60</td>\n",
              "      <td>3170894</td>\n",
              "      <td>7445.41</td>\n",
              "    </tr>\n",
              "    <tr>\n",
              "      <th>9</th>\n",
              "      <td>2018-09-14</td>\n",
              "      <td>223.45</td>\n",
              "      <td>236.70</td>\n",
              "      <td>223.30</td>\n",
              "      <td>234.00</td>\n",
              "      <td>233.95</td>\n",
              "      <td>6377909</td>\n",
              "      <td>14784.50</td>\n",
              "    </tr>\n",
              "  </tbody>\n",
              "</table>\n",
              "</div>\n",
              "      <button class=\"colab-df-convert\" onclick=\"convertToInteractive('df-9a0cb12d-4acb-4be7-abc7-dd8bd10fcdd4')\"\n",
              "              title=\"Convert this dataframe to an interactive table.\"\n",
              "              style=\"display:none;\">\n",
              "        \n",
              "  <svg xmlns=\"http://www.w3.org/2000/svg\" height=\"24px\"viewBox=\"0 0 24 24\"\n",
              "       width=\"24px\">\n",
              "    <path d=\"M0 0h24v24H0V0z\" fill=\"none\"/>\n",
              "    <path d=\"M18.56 5.44l.94 2.06.94-2.06 2.06-.94-2.06-.94-.94-2.06-.94 2.06-2.06.94zm-11 1L8.5 8.5l.94-2.06 2.06-.94-2.06-.94L8.5 2.5l-.94 2.06-2.06.94zm10 10l.94 2.06.94-2.06 2.06-.94-2.06-.94-.94-2.06-.94 2.06-2.06.94z\"/><path d=\"M17.41 7.96l-1.37-1.37c-.4-.4-.92-.59-1.43-.59-.52 0-1.04.2-1.43.59L10.3 9.45l-7.72 7.72c-.78.78-.78 2.05 0 2.83L4 21.41c.39.39.9.59 1.41.59.51 0 1.02-.2 1.41-.59l7.78-7.78 2.81-2.81c.8-.78.8-2.07 0-2.86zM5.41 20L4 18.59l7.72-7.72 1.47 1.35L5.41 20z\"/>\n",
              "  </svg>\n",
              "      </button>\n",
              "      \n",
              "  <style>\n",
              "    .colab-df-container {\n",
              "      display:flex;\n",
              "      flex-wrap:wrap;\n",
              "      gap: 12px;\n",
              "    }\n",
              "\n",
              "    .colab-df-convert {\n",
              "      background-color: #E8F0FE;\n",
              "      border: none;\n",
              "      border-radius: 50%;\n",
              "      cursor: pointer;\n",
              "      display: none;\n",
              "      fill: #1967D2;\n",
              "      height: 32px;\n",
              "      padding: 0 0 0 0;\n",
              "      width: 32px;\n",
              "    }\n",
              "\n",
              "    .colab-df-convert:hover {\n",
              "      background-color: #E2EBFA;\n",
              "      box-shadow: 0px 1px 2px rgba(60, 64, 67, 0.3), 0px 1px 3px 1px rgba(60, 64, 67, 0.15);\n",
              "      fill: #174EA6;\n",
              "    }\n",
              "\n",
              "    [theme=dark] .colab-df-convert {\n",
              "      background-color: #3B4455;\n",
              "      fill: #D2E3FC;\n",
              "    }\n",
              "\n",
              "    [theme=dark] .colab-df-convert:hover {\n",
              "      background-color: #434B5C;\n",
              "      box-shadow: 0px 1px 3px 1px rgba(0, 0, 0, 0.15);\n",
              "      filter: drop-shadow(0px 1px 2px rgba(0, 0, 0, 0.3));\n",
              "      fill: #FFFFFF;\n",
              "    }\n",
              "  </style>\n",
              "\n",
              "      <script>\n",
              "        const buttonEl =\n",
              "          document.querySelector('#df-9a0cb12d-4acb-4be7-abc7-dd8bd10fcdd4 button.colab-df-convert');\n",
              "        buttonEl.style.display =\n",
              "          google.colab.kernel.accessAllowed ? 'block' : 'none';\n",
              "\n",
              "        async function convertToInteractive(key) {\n",
              "          const element = document.querySelector('#df-9a0cb12d-4acb-4be7-abc7-dd8bd10fcdd4');\n",
              "          const dataTable =\n",
              "            await google.colab.kernel.invokeFunction('convertToInteractive',\n",
              "                                                     [key], {});\n",
              "          if (!dataTable) return;\n",
              "\n",
              "          const docLinkHtml = 'Like what you see? Visit the ' +\n",
              "            '<a target=\"_blank\" href=https://colab.research.google.com/notebooks/data_table.ipynb>data table notebook</a>'\n",
              "            + ' to learn more about interactive tables.';\n",
              "          element.innerHTML = '';\n",
              "          dataTable['output_type'] = 'display_data';\n",
              "          await google.colab.output.renderOutput(dataTable, element);\n",
              "          const docLink = document.createElement('div');\n",
              "          docLink.innerHTML = docLinkHtml;\n",
              "          element.appendChild(docLink);\n",
              "        }\n",
              "      </script>\n",
              "    </div>\n",
              "  </div>\n",
              "  "
            ]
          },
          "metadata": {},
          "execution_count": 6
        }
      ]
    },
    {
      "cell_type": "code",
      "source": [
        "training_set"
      ],
      "metadata": {
        "colab": {
          "base_uri": "https://localhost:8080/"
        },
        "id": "_ZvlF3DwaNxm",
        "outputId": "833beae1-d898-4396-c48b-efbd167d0df0"
      },
      "execution_count": null,
      "outputs": [
        {
          "output_type": "execute_result",
          "data": {
            "text/plain": [
              "array([[234.05],\n",
              "       [234.55],\n",
              "       [240.  ],\n",
              "       ...,\n",
              "       [121.8 ],\n",
              "       [120.3 ],\n",
              "       [122.1 ]])"
            ]
          },
          "metadata": {},
          "execution_count": 7
        }
      ]
    },
    {
      "cell_type": "code",
      "source": [
        "sc = MinMaxScaler(feature_range = (0, 1))\n",
        "training_set_scaled = sc.fit_transform(training_set)"
      ],
      "metadata": {
        "id": "PHpAgPBeaNvF"
      },
      "execution_count": null,
      "outputs": []
    },
    {
      "cell_type": "code",
      "source": [
        "x_train = []\n",
        "y_train = []\n",
        "for i in range(60, 2035):\n",
        "    x_train.append(training_set_scaled[i - 60: i, 0])\n",
        "    y_train.append(training_set_scaled[i, 0])\n",
        "x_train, y_train = np.array(x_train), np.array(y_train)\n",
        "\n",
        "x_train = np.reshape(x_train, (x_train.shape[0], x_train.shape[1], 1))\n",
        "#Creating Train Set For Independent & Dependent Variables"
      ],
      "metadata": {
        "id": "E7gYx8xUaNs3"
      },
      "execution_count": null,
      "outputs": []
    },
    {
      "cell_type": "code",
      "source": [
        "from keras.models import Sequential\n",
        "from keras.layers import Dense\n",
        "from keras.layers import LSTM\n",
        "from keras.layers import Dropout"
      ],
      "metadata": {
        "id": "B6KIrnLiaNqV"
      },
      "execution_count": null,
      "outputs": []
    },
    {
      "cell_type": "code",
      "source": [
        "regressor = Sequential()\n",
        "regressor.add(LSTM(units = 50, return_sequences = True, input_shape = (x_train.shape[1], 1)))\n",
        "regressor.add(Dropout(0.2))\n",
        "\n",
        "regressor.add(LSTM(units = 50, return_sequences = True))\n",
        "regressor.add(Dropout(0.2))\n",
        "\n",
        "regressor.add(LSTM(units = 50, return_sequences = True))\n",
        "regressor.add(Dropout(0.2))\n",
        "\n",
        "regressor.add(LSTM(units = 50))\n",
        "regressor.add(Dropout(0.2))\n",
        "\n",
        "regressor.add(Dense(units = 1))\n",
        "\n",
        "regressor.compile(optimizer = 'adam', loss = 'mean_squared_error')\n",
        "\n",
        "regressor.fit(x_train, y_train, epochs = 100, batch_size = 32)"
      ],
      "metadata": {
        "colab": {
          "base_uri": "https://localhost:8080/"
        },
        "id": "vUogT0OaaNn-",
        "outputId": "61519b97-d370-48b4-f246-27b6b42b0ec7"
      },
      "execution_count": null,
      "outputs": [
        {
          "output_type": "stream",
          "name": "stdout",
          "text": [
            "Epoch 1/100\n",
            "62/62 [==============================] - 15s 121ms/step - loss: 0.0140\n",
            "Epoch 2/100\n",
            "62/62 [==============================] - 7s 120ms/step - loss: 0.0029\n",
            "Epoch 3/100\n",
            "62/62 [==============================] - 7s 119ms/step - loss: 0.0027\n",
            "Epoch 4/100\n",
            "62/62 [==============================] - 7s 119ms/step - loss: 0.0026\n",
            "Epoch 5/100\n",
            "62/62 [==============================] - 7s 119ms/step - loss: 0.0023\n",
            "Epoch 6/100\n",
            "62/62 [==============================] - 7s 119ms/step - loss: 0.0023\n",
            "Epoch 7/100\n",
            "62/62 [==============================] - 7s 119ms/step - loss: 0.0021\n",
            "Epoch 8/100\n",
            "62/62 [==============================] - 8s 131ms/step - loss: 0.0023\n",
            "Epoch 9/100\n",
            "62/62 [==============================] - 7s 120ms/step - loss: 0.0022\n",
            "Epoch 10/100\n",
            "62/62 [==============================] - 7s 120ms/step - loss: 0.0022\n",
            "Epoch 11/100\n",
            "62/62 [==============================] - 7s 119ms/step - loss: 0.0021\n",
            "Epoch 12/100\n",
            "62/62 [==============================] - 7s 120ms/step - loss: 0.0020\n",
            "Epoch 13/100\n",
            "62/62 [==============================] - 7s 119ms/step - loss: 0.0017\n",
            "Epoch 14/100\n",
            "62/62 [==============================] - 8s 123ms/step - loss: 0.0017\n",
            "Epoch 15/100\n",
            "62/62 [==============================] - 8s 122ms/step - loss: 0.0015\n",
            "Epoch 16/100\n",
            "62/62 [==============================] - 7s 120ms/step - loss: 0.0014\n",
            "Epoch 17/100\n",
            "62/62 [==============================] - 8s 121ms/step - loss: 0.0016\n",
            "Epoch 18/100\n",
            "62/62 [==============================] - 7s 119ms/step - loss: 0.0015\n",
            "Epoch 19/100\n",
            "62/62 [==============================] - 7s 118ms/step - loss: 0.0015\n",
            "Epoch 20/100\n",
            "62/62 [==============================] - 7s 119ms/step - loss: 0.0013\n",
            "Epoch 21/100\n",
            "62/62 [==============================] - 7s 121ms/step - loss: 0.0013\n",
            "Epoch 22/100\n",
            "62/62 [==============================] - 7s 120ms/step - loss: 0.0015\n",
            "Epoch 23/100\n",
            "62/62 [==============================] - 7s 119ms/step - loss: 0.0015\n",
            "Epoch 24/100\n",
            "62/62 [==============================] - 7s 119ms/step - loss: 0.0013\n",
            "Epoch 25/100\n",
            "62/62 [==============================] - 8s 122ms/step - loss: 0.0012\n",
            "Epoch 26/100\n",
            "62/62 [==============================] - 7s 120ms/step - loss: 0.0012\n",
            "Epoch 27/100\n",
            "62/62 [==============================] - 7s 119ms/step - loss: 0.0013\n",
            "Epoch 28/100\n",
            "62/62 [==============================] - 7s 120ms/step - loss: 0.0012\n",
            "Epoch 29/100\n",
            "62/62 [==============================] - 7s 118ms/step - loss: 0.0011\n",
            "Epoch 30/100\n",
            "62/62 [==============================] - 7s 120ms/step - loss: 0.0011\n",
            "Epoch 31/100\n",
            "62/62 [==============================] - 7s 120ms/step - loss: 0.0011\n",
            "Epoch 32/100\n",
            "62/62 [==============================] - 7s 119ms/step - loss: 9.7664e-04\n",
            "Epoch 33/100\n",
            "62/62 [==============================] - 8s 123ms/step - loss: 0.0011\n",
            "Epoch 34/100\n",
            "62/62 [==============================] - 8s 121ms/step - loss: 0.0010\n",
            "Epoch 35/100\n",
            "62/62 [==============================] - 7s 120ms/step - loss: 0.0011\n",
            "Epoch 36/100\n",
            "62/62 [==============================] - 7s 120ms/step - loss: 0.0011\n",
            "Epoch 37/100\n",
            "62/62 [==============================] - 7s 121ms/step - loss: 0.0012\n",
            "Epoch 38/100\n",
            "62/62 [==============================] - 7s 119ms/step - loss: 0.0012\n",
            "Epoch 39/100\n",
            "62/62 [==============================] - 8s 122ms/step - loss: 9.2286e-04\n",
            "Epoch 40/100\n",
            "62/62 [==============================] - 7s 120ms/step - loss: 8.6761e-04\n",
            "Epoch 41/100\n",
            "62/62 [==============================] - 7s 121ms/step - loss: 8.6320e-04\n",
            "Epoch 42/100\n",
            "62/62 [==============================] - 8s 122ms/step - loss: 8.6368e-04\n",
            "Epoch 43/100\n",
            "62/62 [==============================] - 8s 122ms/step - loss: 0.0011\n",
            "Epoch 44/100\n",
            "62/62 [==============================] - 7s 121ms/step - loss: 9.0711e-04\n",
            "Epoch 45/100\n",
            "62/62 [==============================] - 7s 120ms/step - loss: 8.6730e-04\n",
            "Epoch 46/100\n",
            "62/62 [==============================] - 7s 120ms/step - loss: 8.5640e-04\n",
            "Epoch 47/100\n",
            "62/62 [==============================] - 7s 119ms/step - loss: 8.7654e-04\n",
            "Epoch 48/100\n",
            "62/62 [==============================] - 7s 121ms/step - loss: 8.6736e-04\n",
            "Epoch 49/100\n",
            "62/62 [==============================] - 8s 121ms/step - loss: 9.0374e-04\n",
            "Epoch 50/100\n",
            "62/62 [==============================] - 7s 119ms/step - loss: 7.6019e-04\n",
            "Epoch 51/100\n",
            "62/62 [==============================] - 8s 121ms/step - loss: 8.9032e-04\n",
            "Epoch 52/100\n",
            "62/62 [==============================] - 7s 120ms/step - loss: 9.7981e-04\n",
            "Epoch 53/100\n",
            "62/62 [==============================] - 7s 119ms/step - loss: 0.0010\n",
            "Epoch 54/100\n",
            "62/62 [==============================] - 7s 119ms/step - loss: 7.5474e-04\n",
            "Epoch 55/100\n",
            "62/62 [==============================] - 8s 121ms/step - loss: 7.9566e-04\n",
            "Epoch 56/100\n",
            "62/62 [==============================] - 7s 120ms/step - loss: 8.6831e-04\n",
            "Epoch 57/100\n",
            "62/62 [==============================] - 7s 119ms/step - loss: 8.3881e-04\n",
            "Epoch 58/100\n",
            "62/62 [==============================] - 7s 120ms/step - loss: 7.6240e-04\n",
            "Epoch 59/100\n",
            "62/62 [==============================] - 7s 119ms/step - loss: 7.1655e-04\n",
            "Epoch 60/100\n",
            "62/62 [==============================] - 7s 120ms/step - loss: 7.1023e-04\n",
            "Epoch 61/100\n",
            "62/62 [==============================] - 7s 120ms/step - loss: 7.9599e-04\n",
            "Epoch 62/100\n",
            "62/62 [==============================] - 8s 122ms/step - loss: 7.6609e-04\n",
            "Epoch 63/100\n",
            "62/62 [==============================] - 7s 121ms/step - loss: 8.1600e-04\n",
            "Epoch 64/100\n",
            "62/62 [==============================] - 7s 121ms/step - loss: 6.6340e-04\n",
            "Epoch 65/100\n",
            "62/62 [==============================] - 8s 121ms/step - loss: 7.6085e-04\n",
            "Epoch 66/100\n",
            "62/62 [==============================] - 7s 120ms/step - loss: 7.7708e-04\n",
            "Epoch 67/100\n",
            "62/62 [==============================] - 7s 118ms/step - loss: 7.6309e-04\n",
            "Epoch 68/100\n",
            "62/62 [==============================] - 7s 120ms/step - loss: 8.3226e-04\n",
            "Epoch 69/100\n",
            "62/62 [==============================] - 7s 120ms/step - loss: 7.3463e-04\n",
            "Epoch 70/100\n",
            "62/62 [==============================] - 7s 120ms/step - loss: 7.5628e-04\n",
            "Epoch 71/100\n",
            "62/62 [==============================] - 7s 119ms/step - loss: 6.3936e-04\n",
            "Epoch 72/100\n",
            "62/62 [==============================] - 8s 122ms/step - loss: 6.7068e-04\n",
            "Epoch 73/100\n",
            "62/62 [==============================] - 7s 120ms/step - loss: 7.1726e-04\n",
            "Epoch 74/100\n",
            "62/62 [==============================] - 7s 120ms/step - loss: 8.8072e-04\n",
            "Epoch 75/100\n",
            "62/62 [==============================] - 7s 120ms/step - loss: 7.6498e-04\n",
            "Epoch 76/100\n",
            "62/62 [==============================] - 7s 120ms/step - loss: 8.9681e-04\n",
            "Epoch 77/100\n",
            "62/62 [==============================] - 7s 118ms/step - loss: 6.2616e-04\n",
            "Epoch 78/100\n",
            "62/62 [==============================] - 7s 119ms/step - loss: 6.6480e-04\n",
            "Epoch 79/100\n",
            "62/62 [==============================] - 7s 120ms/step - loss: 7.7018e-04\n",
            "Epoch 80/100\n",
            "62/62 [==============================] - 7s 119ms/step - loss: 8.6513e-04\n",
            "Epoch 81/100\n",
            "62/62 [==============================] - 7s 120ms/step - loss: 6.1996e-04\n",
            "Epoch 82/100\n",
            "62/62 [==============================] - 7s 120ms/step - loss: 6.1211e-04\n",
            "Epoch 83/100\n",
            "62/62 [==============================] - 7s 120ms/step - loss: 6.9722e-04\n",
            "Epoch 84/100\n",
            "62/62 [==============================] - 8s 121ms/step - loss: 6.3988e-04\n",
            "Epoch 85/100\n",
            "62/62 [==============================] - 7s 120ms/step - loss: 6.3099e-04\n",
            "Epoch 86/100\n",
            "62/62 [==============================] - 7s 120ms/step - loss: 7.3878e-04\n",
            "Epoch 87/100\n",
            "62/62 [==============================] - 7s 119ms/step - loss: 5.8023e-04\n",
            "Epoch 88/100\n",
            "62/62 [==============================] - 8s 122ms/step - loss: 6.2650e-04\n",
            "Epoch 89/100\n",
            "62/62 [==============================] - 8s 121ms/step - loss: 6.2676e-04\n",
            "Epoch 90/100\n",
            "62/62 [==============================] - 8s 123ms/step - loss: 6.2585e-04\n",
            "Epoch 91/100\n",
            "62/62 [==============================] - 8s 123ms/step - loss: 6.5952e-04\n",
            "Epoch 92/100\n",
            "62/62 [==============================] - 8s 121ms/step - loss: 6.8351e-04\n",
            "Epoch 93/100\n",
            "62/62 [==============================] - 8s 121ms/step - loss: 6.2139e-04\n",
            "Epoch 94/100\n",
            "62/62 [==============================] - 7s 120ms/step - loss: 6.0150e-04\n",
            "Epoch 95/100\n",
            "62/62 [==============================] - 8s 122ms/step - loss: 6.5617e-04\n",
            "Epoch 96/100\n",
            "62/62 [==============================] - 7s 118ms/step - loss: 5.5731e-04\n",
            "Epoch 97/100\n",
            "62/62 [==============================] - 7s 119ms/step - loss: 6.3401e-04\n",
            "Epoch 98/100\n",
            "62/62 [==============================] - 7s 120ms/step - loss: 6.9726e-04\n",
            "Epoch 99/100\n",
            "62/62 [==============================] - 7s 120ms/step - loss: 6.3396e-04\n",
            "Epoch 100/100\n",
            "62/62 [==============================] - 7s 120ms/step - loss: 5.9553e-04\n"
          ]
        },
        {
          "output_type": "execute_result",
          "data": {
            "text/plain": [
              "<keras.callbacks.History at 0x7f12d7f52fd0>"
            ]
          },
          "metadata": {},
          "execution_count": 11
        }
      ]
    },
    {
      "cell_type": "code",
      "source": [
        "dataset_test = pd.read_csv('tatatest.csv')\n",
        "real_stock_price = dataset_test.iloc[:, 1:2].values"
      ],
      "metadata": {
        "id": "-sapGC50aNlr"
      },
      "execution_count": null,
      "outputs": []
    },
    {
      "cell_type": "code",
      "source": [
        "dataset_total = pd.concat((df['Open'], dataset_test['Open']), axis = 0)\n",
        "inputs = dataset_total[len(dataset_total) - len(dataset_test) - 60:].values\n",
        "inputs = inputs.reshape(-1,1)\n",
        "inputs = sc.transform(inputs)\n",
        "X_test = []\n",
        "for i in range(60, 76):\n",
        "    X_test.append(inputs[i-60:i, 0])\n",
        "X_test = np.array(X_test)\n",
        "X_test = np.reshape(X_test, (X_test.shape[0], X_test.shape[1], 1))\n",
        "predicted_stock_price = regressor.predict(X_test)\n",
        "predicted_stock_price = sc.inverse_transform(predicted_stock_price)\n"
      ],
      "metadata": {
        "id": "O-Zd8k9UaNi3"
      },
      "execution_count": null,
      "outputs": []
    },
    {
      "cell_type": "code",
      "source": [
        "#Graph Plot Using Matplotlib For Forecasting\n",
        "plt.plot(real_stock_price, color = 'black', label = 'TATA Stock Price')\n",
        "plt.plot(predicted_stock_price, color = 'green', label = 'Predicted TATA Stock Price')\n",
        "plt.title('TATA Stock Price Prediction')\n",
        "plt.xlabel('Time')\n",
        "plt.ylabel('TATA Stock Price')\n",
        "plt.legend()\n",
        "plt.show()\n"
      ],
      "metadata": {
        "colab": {
          "base_uri": "https://localhost:8080/",
          "height": 295
        },
        "id": "_HFZNTTmaNgZ",
        "outputId": "81fb239c-a050-4c3d-b5e5-1e261c5b0c31"
      },
      "execution_count": null,
      "outputs": [
        {
          "output_type": "display_data",
          "data": {
            "text/plain": [
              "<Figure size 432x288 with 1 Axes>"
            ],
            "image/png": "[encoded data removed]"
          },
          "metadata": {
            "needs_background": "light"
          }
        }
      ]
    },
    {
      "cell_type": "code",
      "source": [
        "#Here Real Stock Price Went Up While Our Model Which Used LSTM Predicted The Same"
      ],
      "metadata": {
        "id": "P-r5Pb4gjl7Z"
      },
      "execution_count": null,
      "outputs": []
    }
  ]
}