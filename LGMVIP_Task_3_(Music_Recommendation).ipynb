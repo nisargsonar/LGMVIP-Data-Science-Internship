{
  "nbformat": 4,
  "nbformat_minor": 0,
  "metadata": {
    "colab": {
      "name": "LGMVIP Task-3 (Music Recommendation).ipynb",
      "provenance": []
    },
    "kernelspec": {
      "name": "python3",
      "display_name": "Python 3"
    },
    "language_info": {
      "name": "python"
    }
  },
  "cells": [
    {
      "cell_type": "markdown",
      "source": [
        "## **LETS GROW MORE Data Science Internship Beginner Level-3 on Music Recommendation** \n",
        "---"
      ],
      "metadata": {
        "id": "WON1Nx0Hnd41"
      }
    },
    {
      "cell_type": "markdown",
      "source": [
        "### **LGMVIP (August - 2022)**\n",
        "\n",
        "### **TASK 3 - MUSIC RECOMMENDATION**\n",
        "\n",
        "### AUTHOR- **NISARG SONAR**\n",
        "\n",
        "### DATA SET LINK - https://www.kaggle.com/c/kkbox-music-recommendation-challenge/data\n",
        "\n",
        "---"
      ],
      "metadata": {
        "id": "XdS8jrlxnx5d"
      }
    },
    {
      "cell_type": "code",
      "execution_count": null,
      "metadata": {
        "id": "DNblYzlwBZSa"
      },
      "outputs": [],
      "source": [
        "import pandas as pd\n",
        "import numpy as np\n",
        "pd.set_option('display.max_columns', None)\n",
        "import warnings\n",
        "warnings.filterwarnings('ignore')"
      ]
    },
    {
      "cell_type": "code",
      "source": [
        "import string\n",
        "import math\n",
        "import missingno as msno"
      ],
      "metadata": {
        "id": "qdJh_OuPB3eQ"
      },
      "execution_count": null,
      "outputs": []
    },
    {
      "cell_type": "code",
      "source": [
        "# data viz\n",
        "import seaborn as sns\n",
        "from matplotlib import pyplot as plt\n",
        "%matplotlib inline\n",
        "# from autoviz.AutoViz_Class import AutoViz_Class\n",
        "# %matplotlib inline\n",
        "import plotly.express as px\n",
        "%matplotlib inline"
      ],
      "metadata": {
        "id": "nglAy5bNB3b1"
      },
      "execution_count": null,
      "outputs": []
    },
    {
      "cell_type": "code",
      "source": [
        "from sklearn.model_selection import train_test_split, RandomizedSearchCV, GridSearchCV, StratifiedKFold\n",
        "from sklearn.metrics import roc_curve, roc_auc_score, accuracy_score, confusion_matrix, classification_report\n",
        "from sklearn.preprocessing import OneHotEncoder, LabelEncoder, MinMaxScaler"
      ],
      "metadata": {
        "id": "nYFuLbNMB3ZX"
      },
      "execution_count": null,
      "outputs": []
    },
    {
      "cell_type": "code",
      "source": [
        "# sklearn - ML models\n",
        "from sklearn.ensemble import RandomForestClassifier, ExtraTreesClassifier\n",
        "\n",
        "# lightgbm\n",
        "import lightgbm as lgbm\n",
        "\n",
        "# xgboost\n",
        "import xgboost as xgb\n"
      ],
      "metadata": {
        "id": "RWJrQ1hdB3W2"
      },
      "execution_count": null,
      "outputs": []
    },
    {
      "cell_type": "code",
      "source": [
        "pip install catboost"
      ],
      "metadata": {
        "colab": {
          "base_uri": "https://localhost:8080/"
        },
        "id": "201ZoCloB3Ue",
        "outputId": "f8d6322b-43cb-480b-8f9e-52a4599fb472"
      },
      "execution_count": null,
      "outputs": [
        {
          "output_type": "stream",
          "name": "stdout",
          "text": [
            "Looking in indexes: https://pypi.org/simple, https://us-python.pkg.dev/colab-wheels/public/simple/\n",
            "Collecting catboost\n",
            "  Downloading catboost-1.0.6-cp37-none-manylinux1_x86_64.whl (76.6 MB)\n",
            "\u001b[K     |████████████████████████████████| 76.6 MB 1.2 MB/s \n",
            "\u001b[?25hRequirement already satisfied: plotly in /usr/local/lib/python3.7/dist-packages (from catboost) (5.5.0)\n",
            "Requirement already satisfied: six in /usr/local/lib/python3.7/dist-packages (from catboost) (1.15.0)\n",
            "Requirement already satisfied: scipy in /usr/local/lib/python3.7/dist-packages (from catboost) (1.7.3)\n",
            "Requirement already satisfied: matplotlib in /usr/local/lib/python3.7/dist-packages (from catboost) (3.2.2)\n",
            "Requirement already satisfied: graphviz in /usr/local/lib/python3.7/dist-packages (from catboost) (0.10.1)\n",
            "Requirement already satisfied: pandas>=0.24.0 in /usr/local/lib/python3.7/dist-packages (from catboost) (1.3.5)\n",
            "Requirement already satisfied: numpy>=1.16.0 in /usr/local/lib/python3.7/dist-packages (from catboost) (1.21.6)\n",
            "Requirement already satisfied: python-dateutil>=2.7.3 in /usr/local/lib/python3.7/dist-packages (from pandas>=0.24.0->catboost) (2.8.2)\n",
            "Requirement already satisfied: pytz>=2017.3 in /usr/local/lib/python3.7/dist-packages (from pandas>=0.24.0->catboost) (2022.2.1)\n",
            "Requirement already satisfied: cycler>=0.10 in /usr/local/lib/python3.7/dist-packages (from matplotlib->catboost) (0.11.0)\n",
            "Requirement already satisfied: kiwisolver>=1.0.1 in /usr/local/lib/python3.7/dist-packages (from matplotlib->catboost) (1.4.4)\n",
            "Requirement already satisfied: pyparsing!=2.0.4,!=2.1.2,!=2.1.6,>=2.0.1 in /usr/local/lib/python3.7/dist-packages (from matplotlib->catboost) (3.0.9)\n",
            "Requirement already satisfied: typing-extensions in /usr/local/lib/python3.7/dist-packages (from kiwisolver>=1.0.1->matplotlib->catboost) (4.1.1)\n",
            "Requirement already satisfied: tenacity>=6.2.0 in /usr/local/lib/python3.7/dist-packages (from plotly->catboost) (8.0.1)\n",
            "Installing collected packages: catboost\n",
            "Successfully installed catboost-1.0.6\n"
          ]
        }
      ]
    },
    {
      "cell_type": "code",
      "source": [
        "# catboost\n",
        "import catboost as cb"
      ],
      "metadata": {
        "id": "MWYU2JY-B3Rm"
      },
      "execution_count": null,
      "outputs": []
    },
    {
      "cell_type": "code",
      "source": [
        "songs_df = pd.read_csv(\"songs.csv\")\n",
        "songs_extra_df = pd.read_csv(\"song_extra_info.csv\")\n",
        "members_df = pd.read_csv(\"members.csv\")\n",
        "train_df = pd.read_csv(\"train.csv\", nrows = 100000)\n",
        "t_s = pd.merge(train_df, songs_df, on='song_id', how='left')\n",
        "t_s_se = pd.merge(t_s, songs_extra_df, on='song_id', how='left')\n",
        "songs = pd.merge(t_s_se, members_df, on='msno', how='left')\n",
        "del songs_df, songs_extra_df, members_df, train_df, t_s, t_s_se\n",
        "# songs = songs.head(100)\n",
        "songs.head()"
      ],
      "metadata": {
        "colab": {
          "base_uri": "https://localhost:8080/",
          "height": 322
        },
        "id": "lpIh18PzB3PG",
        "outputId": "bd6944d1-d59e-4335-fc55-8bda1ecdf49b"
      },
      "execution_count": null,
      "outputs": [
        {
          "output_type": "execute_result",
          "data": {
            "text/plain": [
              "                                           msno  \\\n",
              "0  FGtllVqz18RPiwJj/edr2gV78zirAiY/9SmYvia+kCg=   \n",
              "1  Xumu+NIjS6QYVxDS4/t3SawvJ7viT9hPKXmf0RtLNx8=   \n",
              "2  Xumu+NIjS6QYVxDS4/t3SawvJ7viT9hPKXmf0RtLNx8=   \n",
              "3  Xumu+NIjS6QYVxDS4/t3SawvJ7viT9hPKXmf0RtLNx8=   \n",
              "4  FGtllVqz18RPiwJj/edr2gV78zirAiY/9SmYvia+kCg=   \n",
              "\n",
              "                                        song_id source_system_tab  \\\n",
              "0  BBzumQNXUHKdEBOB7mAJuzok+IJA1c2Ryg/yzTF6tik=           explore   \n",
              "1  bhp/MpSNoqoxOIB+/l8WPqu6jldth4DIpCm3ayXnJqM=        my library   \n",
              "2  JNWfrrC7zNN7BdMpsISKa4Mw+xVJYNnxXh3/Epw7QgY=        my library   \n",
              "3  2A87tzfnJTSWqD7gIZHisolhe4DMdzkbd6LzO1KHjNs=        my library   \n",
              "4  3qm6XTZ6MOCU11x8FIVbAGH5l5uMkT3/ZalWG1oo2Gc=           explore   \n",
              "\n",
              "    source_screen_name      source_type  target  song_length genre_ids  \\\n",
              "0              Explore  online-playlist     1.0          NaN       NaN   \n",
              "1  Local playlist more   local-playlist     1.0          NaN       NaN   \n",
              "2  Local playlist more   local-playlist     1.0          NaN       NaN   \n",
              "3  Local playlist more   local-playlist     1.0          NaN       NaN   \n",
              "4              Explore  online-playlist     1.0          NaN       NaN   \n",
              "\n",
              "  artist_name composer lyricist  language               name          isrc  \\\n",
              "0         NaN      NaN      NaN       NaN                NaN           NaN   \n",
              "1         NaN      NaN      NaN       NaN                NaN           NaN   \n",
              "2         NaN      NaN      NaN       NaN                NaN           NaN   \n",
              "3         NaN      NaN      NaN       NaN                NaN           NaN   \n",
              "4         NaN      NaN      NaN       NaN  Sleep Without You  QM3E21606003   \n",
              "\n",
              "   city    bd  gender  registered_via  registration_init_time  expiration_date  \n",
              "0   1.0   0.0     NaN             7.0              20120102.0       20171005.0  \n",
              "1  13.0  24.0  female             9.0              20110525.0       20170911.0  \n",
              "2  13.0  24.0  female             9.0              20110525.0       20170911.0  \n",
              "3  13.0  24.0  female             9.0              20110525.0       20170911.0  \n",
              "4   1.0   0.0     NaN             7.0              20120102.0       20171005.0  "
            ],
            "text/html": [
              "\n",
              "  <div id=\"df-38860c8d-0cf5-46fd-bd06-efff6731ae46\">\n",
              "    <div class=\"colab-df-container\">\n",
              "      <div>\n",
              "<style scoped>\n",
              "    .dataframe tbody tr th:only-of-type {\n",
              "        vertical-align: middle;\n",
              "    }\n",
              "\n",
              "    .dataframe tbody tr th {\n",
              "        vertical-align: top;\n",
              "    }\n",
              "\n",
              "    .dataframe thead th {\n",
              "        text-align: right;\n",
              "    }\n",
              "</style>\n",
              "<table border=\"1\" class=\"dataframe\">\n",
              "  <thead>\n",
              "    <tr style=\"text-align: right;\">\n",
              "      <th></th>\n",
              "      <th>msno</th>\n",
              "      <th>song_id</th>\n",
              "      <th>source_system_tab</th>\n",
              "      <th>source_screen_name</th>\n",
              "      <th>source_type</th>\n",
              "      <th>target</th>\n",
              "      <th>song_length</th>\n",
              "      <th>genre_ids</th>\n",
              "      <th>artist_name</th>\n",
              "      <th>composer</th>\n",
              "      <th>lyricist</th>\n",
              "      <th>language</th>\n",
              "      <th>name</th>\n",
              "      <th>isrc</th>\n",
              "      <th>city</th>\n",
              "      <th>bd</th>\n",
              "      <th>gender</th>\n",
              "      <th>registered_via</th>\n",
              "      <th>registration_init_time</th>\n",
              "      <th>expiration_date</th>\n",
              "    </tr>\n",
              "  </thead>\n",
              "  <tbody>\n",
              "    <tr>\n",
              "      <th>0</th>\n",
              "      <td>FGtllVqz18RPiwJj/edr2gV78zirAiY/9SmYvia+kCg=</td>\n",
              "      <td>BBzumQNXUHKdEBOB7mAJuzok+IJA1c2Ryg/yzTF6tik=</td>\n",
              "      <td>explore</td>\n",
              "      <td>Explore</td>\n",
              "      <td>online-playlist</td>\n",
              "      <td>1.0</td>\n",
              "      <td>NaN</td>\n",
              "      <td>NaN</td>\n",
              "      <td>NaN</td>\n",
              "      <td>NaN</td>\n",
              "      <td>NaN</td>\n",
              "      <td>NaN</td>\n",
              "      <td>NaN</td>\n",
              "      <td>NaN</td>\n",
              "      <td>1.0</td>\n",
              "      <td>0.0</td>\n",
              "      <td>NaN</td>\n",
              "      <td>7.0</td>\n",
              "      <td>20120102.0</td>\n",
              "      <td>20171005.0</td>\n",
              "    </tr>\n",
              "    <tr>\n",
              "      <th>1</th>\n",
              "      <td>Xumu+NIjS6QYVxDS4/t3SawvJ7viT9hPKXmf0RtLNx8=</td>\n",
              "      <td>bhp/MpSNoqoxOIB+/l8WPqu6jldth4DIpCm3ayXnJqM=</td>\n",
              "      <td>my library</td>\n",
              "      <td>Local playlist more</td>\n",
              "      <td>local-playlist</td>\n",
              "      <td>1.0</td>\n",
              "      <td>NaN</td>\n",
              "      <td>NaN</td>\n",
              "      <td>NaN</td>\n",
              "      <td>NaN</td>\n",
              "      <td>NaN</td>\n",
              "      <td>NaN</td>\n",
              "      <td>NaN</td>\n",
              "      <td>NaN</td>\n",
              "      <td>13.0</td>\n",
              "      <td>24.0</td>\n",
              "      <td>female</td>\n",
              "      <td>9.0</td>\n",
              "      <td>20110525.0</td>\n",
              "      <td>20170911.0</td>\n",
              "    </tr>\n",
              "    <tr>\n",
              "      <th>2</th>\n",
              "      <td>Xumu+NIjS6QYVxDS4/t3SawvJ7viT9hPKXmf0RtLNx8=</td>\n",
              "      <td>JNWfrrC7zNN7BdMpsISKa4Mw+xVJYNnxXh3/Epw7QgY=</td>\n",
              "      <td>my library</td>\n",
              "      <td>Local playlist more</td>\n",
              "      <td>local-playlist</td>\n",
              "      <td>1.0</td>\n",
              "      <td>NaN</td>\n",
              "      <td>NaN</td>\n",
              "      <td>NaN</td>\n",
              "      <td>NaN</td>\n",
              "      <td>NaN</td>\n",
              "      <td>NaN</td>\n",
              "      <td>NaN</td>\n",
              "      <td>NaN</td>\n",
              "      <td>13.0</td>\n",
              "      <td>24.0</td>\n",
              "      <td>female</td>\n",
              "      <td>9.0</td>\n",
              "      <td>20110525.0</td>\n",
              "      <td>20170911.0</td>\n",
              "    </tr>\n",
              "    <tr>\n",
              "      <th>3</th>\n",
              "      <td>Xumu+NIjS6QYVxDS4/t3SawvJ7viT9hPKXmf0RtLNx8=</td>\n",
              "      <td>2A87tzfnJTSWqD7gIZHisolhe4DMdzkbd6LzO1KHjNs=</td>\n",
              "      <td>my library</td>\n",
              "      <td>Local playlist more</td>\n",
              "      <td>local-playlist</td>\n",
              "      <td>1.0</td>\n",
              "      <td>NaN</td>\n",
              "      <td>NaN</td>\n",
              "      <td>NaN</td>\n",
              "      <td>NaN</td>\n",
              "      <td>NaN</td>\n",
              "      <td>NaN</td>\n",
              "      <td>NaN</td>\n",
              "      <td>NaN</td>\n",
              "      <td>13.0</td>\n",
              "      <td>24.0</td>\n",
              "      <td>female</td>\n",
              "      <td>9.0</td>\n",
              "      <td>20110525.0</td>\n",
              "      <td>20170911.0</td>\n",
              "    </tr>\n",
              "    <tr>\n",
              "      <th>4</th>\n",
              "      <td>FGtllVqz18RPiwJj/edr2gV78zirAiY/9SmYvia+kCg=</td>\n",
              "      <td>3qm6XTZ6MOCU11x8FIVbAGH5l5uMkT3/ZalWG1oo2Gc=</td>\n",
              "      <td>explore</td>\n",
              "      <td>Explore</td>\n",
              "      <td>online-playlist</td>\n",
              "      <td>1.0</td>\n",
              "      <td>NaN</td>\n",
              "      <td>NaN</td>\n",
              "      <td>NaN</td>\n",
              "      <td>NaN</td>\n",
              "      <td>NaN</td>\n",
              "      <td>NaN</td>\n",
              "      <td>Sleep Without You</td>\n",
              "      <td>QM3E21606003</td>\n",
              "      <td>1.0</td>\n",
              "      <td>0.0</td>\n",
              "      <td>NaN</td>\n",
              "      <td>7.0</td>\n",
              "      <td>20120102.0</td>\n",
              "      <td>20171005.0</td>\n",
              "    </tr>\n",
              "  </tbody>\n",
              "</table>\n",
              "</div>\n",
              "      <button class=\"colab-df-convert\" onclick=\"convertToInteractive('df-38860c8d-0cf5-46fd-bd06-efff6731ae46')\"\n",
              "              title=\"Convert this dataframe to an interactive table.\"\n",
              "              style=\"display:none;\">\n",
              "        \n",
              "  <svg xmlns=\"http://www.w3.org/2000/svg\" height=\"24px\"viewBox=\"0 0 24 24\"\n",
              "       width=\"24px\">\n",
              "    <path d=\"M0 0h24v24H0V0z\" fill=\"none\"/>\n",
              "    <path d=\"M18.56 5.44l.94 2.06.94-2.06 2.06-.94-2.06-.94-.94-2.06-.94 2.06-2.06.94zm-11 1L8.5 8.5l.94-2.06 2.06-.94-2.06-.94L8.5 2.5l-.94 2.06-2.06.94zm10 10l.94 2.06.94-2.06 2.06-.94-2.06-.94-.94-2.06-.94 2.06-2.06.94z\"/><path d=\"M17.41 7.96l-1.37-1.37c-.4-.4-.92-.59-1.43-.59-.52 0-1.04.2-1.43.59L10.3 9.45l-7.72 7.72c-.78.78-.78 2.05 0 2.83L4 21.41c.39.39.9.59 1.41.59.51 0 1.02-.2 1.41-.59l7.78-7.78 2.81-2.81c.8-.78.8-2.07 0-2.86zM5.41 20L4 18.59l7.72-7.72 1.47 1.35L5.41 20z\"/>\n",
              "  </svg>\n",
              "      </button>\n",
              "      \n",
              "  <style>\n",
              "    .colab-df-container {\n",
              "      display:flex;\n",
              "      flex-wrap:wrap;\n",
              "      gap: 12px;\n",
              "    }\n",
              "\n",
              "    .colab-df-convert {\n",
              "      background-color: #E8F0FE;\n",
              "      border: none;\n",
              "      border-radius: 50%;\n",
              "      cursor: pointer;\n",
              "      display: none;\n",
              "      fill: #1967D2;\n",
              "      height: 32px;\n",
              "      padding: 0 0 0 0;\n",
              "      width: 32px;\n",
              "    }\n",
              "\n",
              "    .colab-df-convert:hover {\n",
              "      background-color: #E2EBFA;\n",
              "      box-shadow: 0px 1px 2px rgba(60, 64, 67, 0.3), 0px 1px 3px 1px rgba(60, 64, 67, 0.15);\n",
              "      fill: #174EA6;\n",
              "    }\n",
              "\n",
              "    [theme=dark] .colab-df-convert {\n",
              "      background-color: #3B4455;\n",
              "      fill: #D2E3FC;\n",
              "    }\n",
              "\n",
              "    [theme=dark] .colab-df-convert:hover {\n",
              "      background-color: #434B5C;\n",
              "      box-shadow: 0px 1px 3px 1px rgba(0, 0, 0, 0.15);\n",
              "      filter: drop-shadow(0px 1px 2px rgba(0, 0, 0, 0.3));\n",
              "      fill: #FFFFFF;\n",
              "    }\n",
              "  </style>\n",
              "\n",
              "      <script>\n",
              "        const buttonEl =\n",
              "          document.querySelector('#df-38860c8d-0cf5-46fd-bd06-efff6731ae46 button.colab-df-convert');\n",
              "        buttonEl.style.display =\n",
              "          google.colab.kernel.accessAllowed ? 'block' : 'none';\n",
              "\n",
              "        async function convertToInteractive(key) {\n",
              "          const element = document.querySelector('#df-38860c8d-0cf5-46fd-bd06-efff6731ae46');\n",
              "          const dataTable =\n",
              "            await google.colab.kernel.invokeFunction('convertToInteractive',\n",
              "                                                     [key], {});\n",
              "          if (!dataTable) return;\n",
              "\n",
              "          const docLinkHtml = 'Like what you see? Visit the ' +\n",
              "            '<a target=\"_blank\" href=https://colab.research.google.com/notebooks/data_table.ipynb>data table notebook</a>'\n",
              "            + ' to learn more about interactive tables.';\n",
              "          element.innerHTML = '';\n",
              "          dataTable['output_type'] = 'display_data';\n",
              "          await google.colab.output.renderOutput(dataTable, element);\n",
              "          const docLink = document.createElement('div');\n",
              "          docLink.innerHTML = docLinkHtml;\n",
              "          element.appendChild(docLink);\n",
              "        }\n",
              "      </script>\n",
              "    </div>\n",
              "  </div>\n",
              "  "
            ]
          },
          "metadata": {},
          "execution_count": 12
        }
      ]
    },
    {
      "cell_type": "code",
      "source": [
        "songs.info()"
      ],
      "metadata": {
        "colab": {
          "base_uri": "https://localhost:8080/"
        },
        "id": "cZdWD2YZB3Md",
        "outputId": "d5d067cc-0cf6-4fce-fd67-685e5d84a798"
      },
      "execution_count": null,
      "outputs": [
        {
          "output_type": "stream",
          "name": "stdout",
          "text": [
            "<class 'pandas.core.frame.DataFrame'>\n",
            "Int64Index: 70272 entries, 0 to 70271\n",
            "Data columns (total 20 columns):\n",
            " #   Column                  Non-Null Count  Dtype  \n",
            "---  ------                  --------------  -----  \n",
            " 0   msno                    70272 non-null  object \n",
            " 1   song_id                 70271 non-null  object \n",
            " 2   source_system_tab       70064 non-null  object \n",
            " 3   source_screen_name      67656 non-null  object \n",
            " 4   source_type             70148 non-null  object \n",
            " 5   target                  70271 non-null  float64\n",
            " 6   song_length             33158 non-null  float64\n",
            " 7   genre_ids               32654 non-null  object \n",
            " 8   artist_name             33158 non-null  object \n",
            " 9   composer                26204 non-null  object \n",
            " 10  lyricist                19861 non-null  object \n",
            " 11  language                33158 non-null  float64\n",
            " 12  name                    21157 non-null  object \n",
            " 13  isrc                    19226 non-null  object \n",
            " 14  city                    70271 non-null  float64\n",
            " 15  bd                      70271 non-null  float64\n",
            " 16  gender                  43376 non-null  object \n",
            " 17  registered_via          70271 non-null  float64\n",
            " 18  registration_init_time  70271 non-null  float64\n",
            " 19  expiration_date         70271 non-null  float64\n",
            "dtypes: float64(8), object(12)\n",
            "memory usage: 11.3+ MB\n"
          ]
        }
      ]
    },
    {
      "cell_type": "code",
      "source": [
        "msno.matrix(songs)"
      ],
      "metadata": {
        "colab": {
          "base_uri": "https://localhost:8080/",
          "height": 480
        },
        "id": "_R2hcnOJB3Jx",
        "outputId": "3250eaa9-a93b-4a3c-cbe6-78e39804b521"
      },
      "execution_count": null,
      "outputs": [
        {
          "output_type": "execute_result",
          "data": {
            "text/plain": [
              "<matplotlib.axes._subplots.AxesSubplot at 0x7f6d21e32790>"
            ]
          },
          "metadata": {},
          "execution_count": 14
        },
        {
          "output_type": "display_data",
          "data": {
            "text/plain": [
              "<Figure size 1800x720 with 2 Axes>"
            ],
            "image/png": "[encoded data removed]"
          },
          "metadata": {
            "needs_background": "light"
          }
        }
      ]
    },
    {
      "cell_type": "code",
      "source": [
        "for i in songs.select_dtypes(include=['object']).columns:\n",
        "    songs[i][songs[i].isnull()] = 'unknown'\n",
        "songs = songs.fillna(value=0)\n",
        "#Missing Values Fill"
      ],
      "metadata": {
        "id": "meFG2_wlB3G2"
      },
      "execution_count": null,
      "outputs": []
    },
    {
      "cell_type": "code",
      "source": [
        "songs.head()"
      ],
      "metadata": {
        "colab": {
          "base_uri": "https://localhost:8080/",
          "height": 322
        },
        "id": "NNA2rl5lB3Dw",
        "outputId": "c23b7e04-04a2-426d-ace2-1901235d9e8f"
      },
      "execution_count": null,
      "outputs": [
        {
          "output_type": "execute_result",
          "data": {
            "text/plain": [
              "                                           msno  \\\n",
              "0  FGtllVqz18RPiwJj/edr2gV78zirAiY/9SmYvia+kCg=   \n",
              "1  Xumu+NIjS6QYVxDS4/t3SawvJ7viT9hPKXmf0RtLNx8=   \n",
              "2  Xumu+NIjS6QYVxDS4/t3SawvJ7viT9hPKXmf0RtLNx8=   \n",
              "3  Xumu+NIjS6QYVxDS4/t3SawvJ7viT9hPKXmf0RtLNx8=   \n",
              "4  FGtllVqz18RPiwJj/edr2gV78zirAiY/9SmYvia+kCg=   \n",
              "\n",
              "                                        song_id source_system_tab  \\\n",
              "0  BBzumQNXUHKdEBOB7mAJuzok+IJA1c2Ryg/yzTF6tik=           explore   \n",
              "1  bhp/MpSNoqoxOIB+/l8WPqu6jldth4DIpCm3ayXnJqM=        my library   \n",
              "2  JNWfrrC7zNN7BdMpsISKa4Mw+xVJYNnxXh3/Epw7QgY=        my library   \n",
              "3  2A87tzfnJTSWqD7gIZHisolhe4DMdzkbd6LzO1KHjNs=        my library   \n",
              "4  3qm6XTZ6MOCU11x8FIVbAGH5l5uMkT3/ZalWG1oo2Gc=           explore   \n",
              "\n",
              "    source_screen_name      source_type  target  song_length genre_ids  \\\n",
              "0              Explore  online-playlist     1.0          0.0   unknown   \n",
              "1  Local playlist more   local-playlist     1.0          0.0   unknown   \n",
              "2  Local playlist more   local-playlist     1.0          0.0   unknown   \n",
              "3  Local playlist more   local-playlist     1.0          0.0   unknown   \n",
              "4              Explore  online-playlist     1.0          0.0   unknown   \n",
              "\n",
              "  artist_name composer lyricist  language               name          isrc  \\\n",
              "0     unknown  unknown  unknown       0.0            unknown       unknown   \n",
              "1     unknown  unknown  unknown       0.0            unknown       unknown   \n",
              "2     unknown  unknown  unknown       0.0            unknown       unknown   \n",
              "3     unknown  unknown  unknown       0.0            unknown       unknown   \n",
              "4     unknown  unknown  unknown       0.0  Sleep Without You  QM3E21606003   \n",
              "\n",
              "   city    bd   gender  registered_via  registration_init_time  \\\n",
              "0   1.0   0.0  unknown             7.0                20120102   \n",
              "1  13.0  24.0   female             9.0                20110525   \n",
              "2  13.0  24.0   female             9.0                20110525   \n",
              "3  13.0  24.0   female             9.0                20110525   \n",
              "4   1.0   0.0  unknown             7.0                20120102   \n",
              "\n",
              "   expiration_date  \n",
              "0       20171005.0  \n",
              "1       20170911.0  \n",
              "2       20170911.0  \n",
              "3       20170911.0  \n",
              "4       20171005.0  "
            ],
            "text/html": [
              "\n",
              "  <div id=\"df-125a4def-5607-4373-af4c-b8df76272267\">\n",
              "    <div class=\"colab-df-container\">\n",
              "      <div>\n",
              "<style scoped>\n",
              "    .dataframe tbody tr th:only-of-type {\n",
              "        vertical-align: middle;\n",
              "    }\n",
              "\n",
              "    .dataframe tbody tr th {\n",
              "        vertical-align: top;\n",
              "    }\n",
              "\n",
              "    .dataframe thead th {\n",
              "        text-align: right;\n",
              "    }\n",
              "</style>\n",
              "<table border=\"1\" class=\"dataframe\">\n",
              "  <thead>\n",
              "    <tr style=\"text-align: right;\">\n",
              "      <th></th>\n",
              "      <th>msno</th>\n",
              "      <th>song_id</th>\n",
              "      <th>source_system_tab</th>\n",
              "      <th>source_screen_name</th>\n",
              "      <th>source_type</th>\n",
              "      <th>target</th>\n",
              "      <th>song_length</th>\n",
              "      <th>genre_ids</th>\n",
              "      <th>artist_name</th>\n",
              "      <th>composer</th>\n",
              "      <th>lyricist</th>\n",
              "      <th>language</th>\n",
              "      <th>name</th>\n",
              "      <th>isrc</th>\n",
              "      <th>city</th>\n",
              "      <th>bd</th>\n",
              "      <th>gender</th>\n",
              "      <th>registered_via</th>\n",
              "      <th>registration_init_time</th>\n",
              "      <th>expiration_date</th>\n",
              "    </tr>\n",
              "  </thead>\n",
              "  <tbody>\n",
              "    <tr>\n",
              "      <th>0</th>\n",
              "      <td>FGtllVqz18RPiwJj/edr2gV78zirAiY/9SmYvia+kCg=</td>\n",
              "      <td>BBzumQNXUHKdEBOB7mAJuzok+IJA1c2Ryg/yzTF6tik=</td>\n",
              "      <td>explore</td>\n",
              "      <td>Explore</td>\n",
              "      <td>online-playlist</td>\n",
              "      <td>1.0</td>\n",
              "      <td>0.0</td>\n",
              "      <td>unknown</td>\n",
              "      <td>unknown</td>\n",
              "      <td>unknown</td>\n",
              "      <td>unknown</td>\n",
              "      <td>0.0</td>\n",
              "      <td>unknown</td>\n",
              "      <td>unknown</td>\n",
              "      <td>1.0</td>\n",
              "      <td>0.0</td>\n",
              "      <td>unknown</td>\n",
              "      <td>7.0</td>\n",
              "      <td>20120102</td>\n",
              "      <td>20171005.0</td>\n",
              "    </tr>\n",
              "    <tr>\n",
              "      <th>1</th>\n",
              "      <td>Xumu+NIjS6QYVxDS4/t3SawvJ7viT9hPKXmf0RtLNx8=</td>\n",
              "      <td>bhp/MpSNoqoxOIB+/l8WPqu6jldth4DIpCm3ayXnJqM=</td>\n",
              "      <td>my library</td>\n",
              "      <td>Local playlist more</td>\n",
              "      <td>local-playlist</td>\n",
              "      <td>1.0</td>\n",
              "      <td>0.0</td>\n",
              "      <td>unknown</td>\n",
              "      <td>unknown</td>\n",
              "      <td>unknown</td>\n",
              "      <td>unknown</td>\n",
              "      <td>0.0</td>\n",
              "      <td>unknown</td>\n",
              "      <td>unknown</td>\n",
              "      <td>13.0</td>\n",
              "      <td>24.0</td>\n",
              "      <td>female</td>\n",
              "      <td>9.0</td>\n",
              "      <td>20110525</td>\n",
              "      <td>20170911.0</td>\n",
              "    </tr>\n",
              "    <tr>\n",
              "      <th>2</th>\n",
              "      <td>Xumu+NIjS6QYVxDS4/t3SawvJ7viT9hPKXmf0RtLNx8=</td>\n",
              "      <td>JNWfrrC7zNN7BdMpsISKa4Mw+xVJYNnxXh3/Epw7QgY=</td>\n",
              "      <td>my library</td>\n",
              "      <td>Local playlist more</td>\n",
              "      <td>local-playlist</td>\n",
              "      <td>1.0</td>\n",
              "      <td>0.0</td>\n",
              "      <td>unknown</td>\n",
              "      <td>unknown</td>\n",
              "      <td>unknown</td>\n",
              "      <td>unknown</td>\n",
              "      <td>0.0</td>\n",
              "      <td>unknown</td>\n",
              "      <td>unknown</td>\n",
              "      <td>13.0</td>\n",
              "      <td>24.0</td>\n",
              "      <td>female</td>\n",
              "      <td>9.0</td>\n",
              "      <td>20110525</td>\n",
              "      <td>20170911.0</td>\n",
              "    </tr>\n",
              "    <tr>\n",
              "      <th>3</th>\n",
              "      <td>Xumu+NIjS6QYVxDS4/t3SawvJ7viT9hPKXmf0RtLNx8=</td>\n",
              "      <td>2A87tzfnJTSWqD7gIZHisolhe4DMdzkbd6LzO1KHjNs=</td>\n",
              "      <td>my library</td>\n",
              "      <td>Local playlist more</td>\n",
              "      <td>local-playlist</td>\n",
              "      <td>1.0</td>\n",
              "      <td>0.0</td>\n",
              "      <td>unknown</td>\n",
              "      <td>unknown</td>\n",
              "      <td>unknown</td>\n",
              "      <td>unknown</td>\n",
              "      <td>0.0</td>\n",
              "      <td>unknown</td>\n",
              "      <td>unknown</td>\n",
              "      <td>13.0</td>\n",
              "      <td>24.0</td>\n",
              "      <td>female</td>\n",
              "      <td>9.0</td>\n",
              "      <td>20110525</td>\n",
              "      <td>20170911.0</td>\n",
              "    </tr>\n",
              "    <tr>\n",
              "      <th>4</th>\n",
              "      <td>FGtllVqz18RPiwJj/edr2gV78zirAiY/9SmYvia+kCg=</td>\n",
              "      <td>3qm6XTZ6MOCU11x8FIVbAGH5l5uMkT3/ZalWG1oo2Gc=</td>\n",
              "      <td>explore</td>\n",
              "      <td>Explore</td>\n",
              "      <td>online-playlist</td>\n",
              "      <td>1.0</td>\n",
              "      <td>0.0</td>\n",
              "      <td>unknown</td>\n",
              "      <td>unknown</td>\n",
              "      <td>unknown</td>\n",
              "      <td>unknown</td>\n",
              "      <td>0.0</td>\n",
              "      <td>Sleep Without You</td>\n",
              "      <td>QM3E21606003</td>\n",
              "      <td>1.0</td>\n",
              "      <td>0.0</td>\n",
              "      <td>unknown</td>\n",
              "      <td>7.0</td>\n",
              "      <td>20120102</td>\n",
              "      <td>20171005.0</td>\n",
              "    </tr>\n",
              "  </tbody>\n",
              "</table>\n",
              "</div>\n",
              "      <button class=\"colab-df-convert\" onclick=\"convertToInteractive('df-125a4def-5607-4373-af4c-b8df76272267')\"\n",
              "              title=\"Convert this dataframe to an interactive table.\"\n",
              "              style=\"display:none;\">\n",
              "        \n",
              "  <svg xmlns=\"http://www.w3.org/2000/svg\" height=\"24px\"viewBox=\"0 0 24 24\"\n",
              "       width=\"24px\">\n",
              "    <path d=\"M0 0h24v24H0V0z\" fill=\"none\"/>\n",
              "    <path d=\"M18.56 5.44l.94 2.06.94-2.06 2.06-.94-2.06-.94-.94-2.06-.94 2.06-2.06.94zm-11 1L8.5 8.5l.94-2.06 2.06-.94-2.06-.94L8.5 2.5l-.94 2.06-2.06.94zm10 10l.94 2.06.94-2.06 2.06-.94-2.06-.94-.94-2.06-.94 2.06-2.06.94z\"/><path d=\"M17.41 7.96l-1.37-1.37c-.4-.4-.92-.59-1.43-.59-.52 0-1.04.2-1.43.59L10.3 9.45l-7.72 7.72c-.78.78-.78 2.05 0 2.83L4 21.41c.39.39.9.59 1.41.59.51 0 1.02-.2 1.41-.59l7.78-7.78 2.81-2.81c.8-.78.8-2.07 0-2.86zM5.41 20L4 18.59l7.72-7.72 1.47 1.35L5.41 20z\"/>\n",
              "  </svg>\n",
              "      </button>\n",
              "      \n",
              "  <style>\n",
              "    .colab-df-container {\n",
              "      display:flex;\n",
              "      flex-wrap:wrap;\n",
              "      gap: 12px;\n",
              "    }\n",
              "\n",
              "    .colab-df-convert {\n",
              "      background-color: #E8F0FE;\n",
              "      border: none;\n",
              "      border-radius: 50%;\n",
              "      cursor: pointer;\n",
              "      display: none;\n",
              "      fill: #1967D2;\n",
              "      height: 32px;\n",
              "      padding: 0 0 0 0;\n",
              "      width: 32px;\n",
              "    }\n",
              "\n",
              "    .colab-df-convert:hover {\n",
              "      background-color: #E2EBFA;\n",
              "      box-shadow: 0px 1px 2px rgba(60, 64, 67, 0.3), 0px 1px 3px 1px rgba(60, 64, 67, 0.15);\n",
              "      fill: #174EA6;\n",
              "    }\n",
              "\n",
              "    [theme=dark] .colab-df-convert {\n",
              "      background-color: #3B4455;\n",
              "      fill: #D2E3FC;\n",
              "    }\n",
              "\n",
              "    [theme=dark] .colab-df-convert:hover {\n",
              "      background-color: #434B5C;\n",
              "      box-shadow: 0px 1px 3px 1px rgba(0, 0, 0, 0.15);\n",
              "      filter: drop-shadow(0px 1px 2px rgba(0, 0, 0, 0.3));\n",
              "      fill: #FFFFFF;\n",
              "    }\n",
              "  </style>\n",
              "\n",
              "      <script>\n",
              "        const buttonEl =\n",
              "          document.querySelector('#df-125a4def-5607-4373-af4c-b8df76272267 button.colab-df-convert');\n",
              "        buttonEl.style.display =\n",
              "          google.colab.kernel.accessAllowed ? 'block' : 'none';\n",
              "\n",
              "        async function convertToInteractive(key) {\n",
              "          const element = document.querySelector('#df-125a4def-5607-4373-af4c-b8df76272267');\n",
              "          const dataTable =\n",
              "            await google.colab.kernel.invokeFunction('convertToInteractive',\n",
              "                                                     [key], {});\n",
              "          if (!dataTable) return;\n",
              "\n",
              "          const docLinkHtml = 'Like what you see? Visit the ' +\n",
              "            '<a target=\"_blank\" href=https://colab.research.google.com/notebooks/data_table.ipynb>data table notebook</a>'\n",
              "            + ' to learn more about interactive tables.';\n",
              "          element.innerHTML = '';\n",
              "          dataTable['output_type'] = 'display_data';\n",
              "          await google.colab.output.renderOutput(dataTable, element);\n",
              "          const docLink = document.createElement('div');\n",
              "          docLink.innerHTML = docLinkHtml;\n",
              "          element.appendChild(docLink);\n",
              "        }\n",
              "      </script>\n",
              "    </div>\n",
              "  </div>\n",
              "  "
            ]
          },
          "metadata": {},
          "execution_count": 20
        }
      ]
    },
    {
      "cell_type": "code",
      "source": [
        "label_encoder = LabelEncoder()\n",
        "one_hot = OneHotEncoder()\n",
        "\n",
        "for i in songs.columns :\n",
        "    songs[i] = label_encoder.fit_transform(songs[i])"
      ],
      "metadata": {
        "id": "LRZ2QvwSB3A_"
      },
      "execution_count": null,
      "outputs": []
    },
    {
      "cell_type": "code",
      "source": [
        "# Сorrelation matrix\n",
        "plt.figure(figsize=[15,10])\n",
        "sns.heatmap(songs.corr())\n",
        "plt.show()"
      ],
      "metadata": {
        "colab": {
          "base_uri": "https://localhost:8080/",
          "height": 692
        },
        "id": "CISs6ouDB2-n",
        "outputId": "5d5dfc3d-722c-4951-afcf-88511e07dd90"
      },
      "execution_count": null,
      "outputs": [
        {
          "output_type": "display_data",
          "data": {
            "text/plain": [
              "<Figure size 1080x720 with 2 Axes>"
            ],
            "image/png": "[encoded data removed]"
          },
          "metadata": {
            "needs_background": "light"
          }
        }
      ]
    },
    {
      "cell_type": "code",
      "source": [
        "#Modelling\n",
        "X = songs.drop('target', axis = 1)\n",
        "y = songs.target\n",
        "X_train, X_val, y_train, y_val = train_test_split(X, y, test_size = 0.25, random_state = 0)"
      ],
      "metadata": {
        "id": "i_OzIntsZnTc"
      },
      "execution_count": null,
      "outputs": []
    },
    {
      "cell_type": "code",
      "source": [
        "def model_with(model_name, X_train, X_val, y_train, y_val) :\n",
        "    print(\"==================================================\")\n",
        "    print(\"Modeling with :\", model_name)\n",
        "    print()\n",
        "        \n",
        "    if model_name == \"Random Forest Classifier\" :\n",
        "        model = RandomForestClassifier(\n",
        "            n_estimators=1000, \n",
        "        )\n",
        "    elif model_name == \"Extra Trees Classifier\" :\n",
        "        model = ExtraTreesClassifier(\n",
        "            n_estimators=1000, \n",
        "        )\n",
        "    elif model_name == \"LightGBM Classifier\" :\n",
        "        model = lgbm.LGBMClassifier(\n",
        "            n_estimators=1000, \n",
        "        )\n",
        "    elif model_name == \"XGBoost Classifier\" :\n",
        "        model = xgb.XGBClassifier(\n",
        "            n_estimators=1000, \n",
        "        )\n",
        "    elif model_name == \"CatBoost Classifier\" :\n",
        "        model = cb.CatBoostClassifier(\n",
        "            n_estimators=1000, \n",
        "            verbose=0\n",
        "        )\n",
        "    else :\n",
        "        print(\"Model not found in function.\")\n",
        "        \n",
        "    model.fit(X_train, y_train)\n",
        "    \n",
        "    val_pred = model.predict(X_val)\n",
        "    print(classification_report(y_val, val_pred))\n",
        "    print()\n",
        "    print(\"Accuracy :\", accuracy_score(y_val, val_pred))\n",
        "    print(\"ROC :\", roc_auc_score(y_val, val_pred))\n",
        "    \n",
        "    print(\"==================================================\")\n",
        "    print()"
      ],
      "metadata": {
        "id": "qisIL8WIZnQC"
      },
      "execution_count": null,
      "outputs": []
    },
    {
      "cell_type": "code",
      "source": [
        "models = [\"Random Forest Classifier\", \"Extra Trees Classifier\", \"LightGBM Classifier\", \"XGBoost Classifier\", \"CatBoost Classifier\"]\n",
        "for i in models :\n",
        "    model_with(i, X_train, X_val, y_train, y_val)"
      ],
      "metadata": {
        "colab": {
          "base_uri": "https://localhost:8080/"
        },
        "id": "K9Qv5_bvZnNd",
        "outputId": "ed38ea4e-0c32-4578-d3c4-54f6ba69f7cf"
      },
      "execution_count": null,
      "outputs": [
        {
          "output_type": "stream",
          "name": "stdout",
          "text": [
            "==================================================\n",
            "Modeling with : Random Forest Classifier\n",
            "\n",
            "              precision    recall  f1-score   support\n",
            "\n",
            "           0       0.72      0.54      0.62      4370\n",
            "           1       0.86      0.93      0.89     13198\n",
            "\n",
            "    accuracy                           0.83     17568\n",
            "   macro avg       0.79      0.73      0.75     17568\n",
            "weighted avg       0.82      0.83      0.82     17568\n",
            "\n",
            "\n",
            "Accuracy : 0.8324795081967213\n",
            "ROC : 0.7344470228656099\n",
            "==================================================\n",
            "\n",
            "==================================================\n",
            "Modeling with : Extra Trees Classifier\n",
            "\n",
            "              precision    recall  f1-score   support\n",
            "\n",
            "           0       0.69      0.53      0.60      4370\n",
            "           1       0.85      0.92      0.89     13198\n",
            "\n",
            "    accuracy                           0.82     17568\n",
            "   macro avg       0.77      0.72      0.74     17568\n",
            "weighted avg       0.81      0.82      0.81     17568\n",
            "\n",
            "\n",
            "Accuracy : 0.8224612932604736\n",
            "ROC : 0.7231874290640389\n",
            "==================================================\n",
            "\n",
            "==================================================\n",
            "Modeling with : LightGBM Classifier\n",
            "\n",
            "              precision    recall  f1-score   support\n",
            "\n",
            "           0       0.75      0.50      0.60      4370\n",
            "           1       0.85      0.94      0.90     13198\n",
            "\n",
            "    accuracy                           0.83     17568\n",
            "   macro avg       0.80      0.72      0.75     17568\n",
            "weighted avg       0.83      0.83      0.82     17568\n",
            "\n",
            "\n",
            "Accuracy : 0.8341302367941712\n",
            "ROC : 0.7233005624942133\n",
            "==================================================\n",
            "\n",
            "==================================================\n",
            "Modeling with : XGBoost Classifier\n",
            "\n",
            "              precision    recall  f1-score   support\n",
            "\n",
            "           0       0.72      0.40      0.51      4370\n",
            "           1       0.83      0.95      0.88     13198\n",
            "\n",
            "    accuracy                           0.81     17568\n",
            "   macro avg       0.77      0.67      0.70     17568\n",
            "weighted avg       0.80      0.81      0.79     17568\n",
            "\n",
            "\n",
            "Accuracy : 0.8109631147540983\n",
            "ROC : 0.6731360552167429\n",
            "==================================================\n",
            "\n",
            "==================================================\n",
            "Modeling with : CatBoost Classifier\n",
            "\n",
            "              precision    recall  f1-score   support\n",
            "\n",
            "           0       0.74      0.42      0.54      4370\n",
            "           1       0.83      0.95      0.89     13198\n",
            "\n",
            "    accuracy                           0.82     17568\n",
            "   macro avg       0.79      0.69      0.71     17568\n",
            "weighted avg       0.81      0.82      0.80     17568\n",
            "\n",
            "\n",
            "Accuracy : 0.8195013661202186\n",
            "ROC : 0.6855535458357709\n",
            "==================================================\n",
            "\n"
          ]
        }
      ]
    },
    {
      "cell_type": "code",
      "source": [
        "rf = RandomForestClassifier(\n",
        "        n_estimators = 1000,\n",
        "        class_weight={0: 1.0050505050505052, 1: 0.9949494949494948}\n",
        ")\n",
        "\n",
        "rf.fit(X_train, y_train)"
      ],
      "metadata": {
        "colab": {
          "base_uri": "https://localhost:8080/"
        },
        "id": "noYLyhxdZnKw",
        "outputId": "2e1493dc-296f-4b86-d4ec-981a26342a47"
      },
      "execution_count": null,
      "outputs": [
        {
          "output_type": "execute_result",
          "data": {
            "text/plain": [
              "RandomForestClassifier(class_weight={0: 1.0050505050505052,\n",
              "                                     1: 0.9949494949494948},\n",
              "                       n_estimators=1000)"
            ]
          },
          "metadata": {},
          "execution_count": 26
        }
      ]
    },
    {
      "cell_type": "code",
      "source": [
        "val_pred = rf.predict(X_val)\n",
        "print(\"Accuracy :\", accuracy_score(y_val, val_pred)*100)"
      ],
      "metadata": {
        "colab": {
          "base_uri": "https://localhost:8080/"
        },
        "id": "WlXGroDmbc5l",
        "outputId": "aa79eef1-8b4e-4ce4-855e-314a566aabcf"
      },
      "execution_count": null,
      "outputs": [
        {
          "output_type": "stream",
          "name": "stdout",
          "text": [
            "Accuracy : 83.23087431693989\n"
          ]
        }
      ]
    }
  ]
}